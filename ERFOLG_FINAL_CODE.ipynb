{
 "cells": [
  {
   "cell_type": "code",
   "execution_count": 1,
   "id": "9d8e395b",
   "metadata": {
    "id": "9d8e395b"
   },
   "outputs": [],
   "source": [
    "from sklearn.model_selection import train_test_split, cross_val_score\n",
    "from sklearn.metrics import r2_score, mean_squared_error\n",
    "import pandas as pd\n",
    "import numpy as np\n",
    "from sklearn.preprocessing import OneHotEncoder, MinMaxScaler\n",
    "from sklearn.ensemble import RandomForestRegressor\n",
    "from sklearn.linear_model import LinearRegression\n",
    "from scipy.stats import chi2_contingency\n",
    "import matplotlib.pyplot as plt"
   ]
  },
  {
   "cell_type": "code",
   "execution_count": 2,
   "id": "b4017472",
   "metadata": {
    "id": "b4017472"
   },
   "outputs": [],
   "source": [
    "salary = pd.read_csv(\"C:/Users/Atharv/Downloads/ERFOLG PYTHON LAB/Final/Final23_1_salary.csv\")"
   ]
  },
  {
   "cell_type": "code",
   "execution_count": 3,
   "id": "VII4owiofhTr",
   "metadata": {
    "colab": {
     "base_uri": "https://localhost:8080/"
    },
    "id": "VII4owiofhTr",
    "outputId": "1146a5cd-397a-4275-c0df-1488fc09590d"
   },
   "outputs": [
    {
     "data": {
      "text/plain": [
       "work_year              int64\n",
       "experience_level      object\n",
       "employment_type       object\n",
       "job_title             object\n",
       "salary                 int64\n",
       "salary_currency       object\n",
       "salary_in_usd          int64\n",
       "employee_residence    object\n",
       "remote_ratio           int64\n",
       "company_location      object\n",
       "company_size          object\n",
       "dtype: object"
      ]
     },
     "execution_count": 3,
     "metadata": {},
     "output_type": "execute_result"
    }
   ],
   "source": [
    "salary.dtypes"
   ]
  },
  {
   "cell_type": "code",
   "execution_count": 4,
   "id": "CyjTHBvyfhsa",
   "metadata": {
    "colab": {
     "base_uri": "https://localhost:8080/"
    },
    "id": "CyjTHBvyfhsa",
    "outputId": "4e5bb2c2-04a1-405a-aec6-a6c2a4b23458"
   },
   "outputs": [
    {
     "data": {
      "text/plain": [
       "(3755, 11)"
      ]
     },
     "execution_count": 4,
     "metadata": {},
     "output_type": "execute_result"
    }
   ],
   "source": [
    "salary.shape"
   ]
  },
  {
   "cell_type": "code",
   "execution_count": 5,
   "id": "59-pzWamf8q4",
   "metadata": {
    "colab": {
     "base_uri": "https://localhost:8080/"
    },
    "id": "59-pzWamf8q4",
    "outputId": "d2d9dc01-cc5c-490e-c05c-18425dff9b10"
   },
   "outputs": [
    {
     "data": {
      "text/plain": [
       "work_year             0\n",
       "experience_level      0\n",
       "employment_type       0\n",
       "job_title             0\n",
       "salary                0\n",
       "salary_currency       0\n",
       "salary_in_usd         0\n",
       "employee_residence    0\n",
       "remote_ratio          0\n",
       "company_location      0\n",
       "company_size          0\n",
       "dtype: int64"
      ]
     },
     "execution_count": 5,
     "metadata": {},
     "output_type": "execute_result"
    }
   ],
   "source": [
    "salary.isnull().sum()"
   ]
  },
  {
   "cell_type": "code",
   "execution_count": 6,
   "id": "V3iT7BPoL0Xu",
   "metadata": {
    "colab": {
     "base_uri": "https://localhost:8080/",
     "height": 394
    },
    "id": "V3iT7BPoL0Xu",
    "outputId": "84d2dde5-3250-4f2f-96a0-18f613215e06"
   },
   "outputs": [
    {
     "data": {
      "text/html": [
       "<div>\n",
       "<style scoped>\n",
       "    .dataframe tbody tr th:only-of-type {\n",
       "        vertical-align: middle;\n",
       "    }\n",
       "\n",
       "    .dataframe tbody tr th {\n",
       "        vertical-align: top;\n",
       "    }\n",
       "\n",
       "    .dataframe thead th {\n",
       "        text-align: right;\n",
       "    }\n",
       "</style>\n",
       "<table border=\"1\" class=\"dataframe\">\n",
       "  <thead>\n",
       "    <tr style=\"text-align: right;\">\n",
       "      <th></th>\n",
       "      <th>0</th>\n",
       "      <th>1</th>\n",
       "      <th>2</th>\n",
       "      <th>3</th>\n",
       "      <th>4</th>\n",
       "    </tr>\n",
       "  </thead>\n",
       "  <tbody>\n",
       "    <tr>\n",
       "      <th>work_year</th>\n",
       "      <td>2023</td>\n",
       "      <td>2023</td>\n",
       "      <td>2023</td>\n",
       "      <td>2023</td>\n",
       "      <td>2023</td>\n",
       "    </tr>\n",
       "    <tr>\n",
       "      <th>experience_level</th>\n",
       "      <td>SE</td>\n",
       "      <td>MI</td>\n",
       "      <td>MI</td>\n",
       "      <td>SE</td>\n",
       "      <td>SE</td>\n",
       "    </tr>\n",
       "    <tr>\n",
       "      <th>employment_type</th>\n",
       "      <td>FT</td>\n",
       "      <td>CT</td>\n",
       "      <td>CT</td>\n",
       "      <td>FT</td>\n",
       "      <td>FT</td>\n",
       "    </tr>\n",
       "    <tr>\n",
       "      <th>job_title</th>\n",
       "      <td>Principal Data Scientist</td>\n",
       "      <td>ML Engineer</td>\n",
       "      <td>ML Engineer</td>\n",
       "      <td>Data Scientist</td>\n",
       "      <td>Data Scientist</td>\n",
       "    </tr>\n",
       "    <tr>\n",
       "      <th>salary</th>\n",
       "      <td>80000</td>\n",
       "      <td>30000</td>\n",
       "      <td>25500</td>\n",
       "      <td>175000</td>\n",
       "      <td>120000</td>\n",
       "    </tr>\n",
       "    <tr>\n",
       "      <th>salary_currency</th>\n",
       "      <td>EUR</td>\n",
       "      <td>USD</td>\n",
       "      <td>USD</td>\n",
       "      <td>USD</td>\n",
       "      <td>USD</td>\n",
       "    </tr>\n",
       "    <tr>\n",
       "      <th>salary_in_usd</th>\n",
       "      <td>85847</td>\n",
       "      <td>30000</td>\n",
       "      <td>25500</td>\n",
       "      <td>175000</td>\n",
       "      <td>120000</td>\n",
       "    </tr>\n",
       "    <tr>\n",
       "      <th>employee_residence</th>\n",
       "      <td>ES</td>\n",
       "      <td>US</td>\n",
       "      <td>US</td>\n",
       "      <td>CA</td>\n",
       "      <td>CA</td>\n",
       "    </tr>\n",
       "    <tr>\n",
       "      <th>remote_ratio</th>\n",
       "      <td>100</td>\n",
       "      <td>100</td>\n",
       "      <td>100</td>\n",
       "      <td>100</td>\n",
       "      <td>100</td>\n",
       "    </tr>\n",
       "    <tr>\n",
       "      <th>company_location</th>\n",
       "      <td>ES</td>\n",
       "      <td>US</td>\n",
       "      <td>US</td>\n",
       "      <td>CA</td>\n",
       "      <td>CA</td>\n",
       "    </tr>\n",
       "    <tr>\n",
       "      <th>company_size</th>\n",
       "      <td>L</td>\n",
       "      <td>S</td>\n",
       "      <td>S</td>\n",
       "      <td>M</td>\n",
       "      <td>M</td>\n",
       "    </tr>\n",
       "  </tbody>\n",
       "</table>\n",
       "</div>"
      ],
      "text/plain": [
       "                                           0            1            2   \n",
       "work_year                               2023         2023         2023  \\\n",
       "experience_level                          SE           MI           MI   \n",
       "employment_type                           FT           CT           CT   \n",
       "job_title           Principal Data Scientist  ML Engineer  ML Engineer   \n",
       "salary                                 80000        30000        25500   \n",
       "salary_currency                          EUR          USD          USD   \n",
       "salary_in_usd                          85847        30000        25500   \n",
       "employee_residence                        ES           US           US   \n",
       "remote_ratio                             100          100          100   \n",
       "company_location                          ES           US           US   \n",
       "company_size                               L            S            S   \n",
       "\n",
       "                                 3               4  \n",
       "work_year                     2023            2023  \n",
       "experience_level                SE              SE  \n",
       "employment_type                 FT              FT  \n",
       "job_title           Data Scientist  Data Scientist  \n",
       "salary                      175000          120000  \n",
       "salary_currency                USD             USD  \n",
       "salary_in_usd               175000          120000  \n",
       "employee_residence              CA              CA  \n",
       "remote_ratio                   100             100  \n",
       "company_location                CA              CA  \n",
       "company_size                     M               M  "
      ]
     },
     "execution_count": 6,
     "metadata": {},
     "output_type": "execute_result"
    }
   ],
   "source": [
    "salary.head().transpose()"
   ]
  },
  {
   "cell_type": "code",
   "execution_count": 7,
   "id": "3c8323cd",
   "metadata": {
    "scrolled": true
   },
   "outputs": [
    {
     "data": {
      "image/png": "[encoded data removed]",
      "text/plain": [
       "<Figure size 800x600 with 1 Axes>"
      ]
     },
     "metadata": {},
     "output_type": "display_data"
    }
   ],
   "source": [
    "# Access the 'work_year' and 'salary_in_usd' columns and convert them to Python lists\n",
    "work_years = salary['work_year'].tolist()\n",
    "salary_usd = salary['salary_in_usd'].tolist()\n",
    "\n",
    "# Create scatter plot\n",
    "plt.figure(figsize=(8, 6))\n",
    "plt.scatter(work_years, salary_usd, marker='o', color='b', label='Salary in USD')\n",
    "\n",
    "# Add labels and title\n",
    "plt.xlabel('Work Year')\n",
    "plt.ylabel('Salary in USD')\n",
    "plt.title('Relationship between Work Year and Salary (in USD)')\n",
    "plt.legend()\n",
    "\n",
    "# Show the plot\n",
    "plt.show()"
   ]
  },
  {
   "cell_type": "code",
   "execution_count": 8,
   "id": "721478f2",
   "metadata": {},
   "outputs": [
    {
     "name": "stdout",
     "output_type": "stream",
     "text": [
      "Chi-square test statistic: 680.21786004067\n",
      "P-value: 4.7144565270021184e-58\n"
     ]
    }
   ],
   "source": [
    "# checking association between job_title type level and salary\n",
    "crosstab1 = pd.crosstab(salary[\"job_title\"], pd.qcut(salary[\"salary_in_usd\"], q=3))\n",
    "chi2_stat, p_value, _, _ = chi2_contingency(crosstab1)\n",
    "print(\"Chi-square test statistic:\", chi2_stat)\n",
    "print(\"P-value:\", p_value)"
   ]
  },
  {
   "cell_type": "code",
   "execution_count": 9,
   "id": "1ba0cebe",
   "metadata": {},
   "outputs": [
    {
     "name": "stdout",
     "output_type": "stream",
     "text": [
      "Chi-square test statistic: 1122.4043270186662\n",
      "P-value: 9.855950527869751e-147\n"
     ]
    }
   ],
   "source": [
    "crosstab2 = pd.crosstab(salary[\"employee_residence\"], pd.qcut(salary[\"salary_in_usd\"], q=3))\n",
    "chi2_stat, p_value, _, _ = chi2_contingency(crosstab2)\n",
    "print(\"Chi-square test statistic:\", chi2_stat)\n",
    "print(\"P-value:\", p_value)"
   ]
  },
  {
   "cell_type": "code",
   "execution_count": 10,
   "id": "5dc88523",
   "metadata": {},
   "outputs": [
    {
     "name": "stdout",
     "output_type": "stream",
     "text": [
      "Chi-square test statistic: 920.679428965695\n",
      "P-value: 1.6724606862873606e-168\n"
     ]
    }
   ],
   "source": [
    "crosstab3 = pd.crosstab(salary[\"salary_currency\"], pd.qcut(salary[\"salary_in_usd\"], q=3))\n",
    "chi2_stat, p_value, _, _ = chi2_contingency(crosstab3)\n",
    "print(\"Chi-square test statistic:\", chi2_stat)\n",
    "print(\"P-value:\", p_value)"
   ]
  },
  {
   "cell_type": "code",
   "execution_count": 11,
   "id": "08b52cde",
   "metadata": {},
   "outputs": [
    {
     "name": "stdout",
     "output_type": "stream",
     "text": [
      "Chi-square test statistic: 759.646666402094\n",
      "P-value: 8.039747169455548e-161\n"
     ]
    }
   ],
   "source": [
    "crosstab4 = pd.crosstab(salary[\"experience_level\"], pd.qcut(salary[\"salary_in_usd\"], q=3))\n",
    "chi2_stat, p_value, _, _ = chi2_contingency(crosstab4)\n",
    "print(\"Chi-square test statistic:\", chi2_stat)\n",
    "print(\"P-value:\", p_value)"
   ]
  },
  {
   "cell_type": "code",
   "execution_count": 12,
   "id": "9c246075",
   "metadata": {},
   "outputs": [
    {
     "name": "stdout",
     "output_type": "stream",
     "text": [
      "Chi-square test statistic: 54.335135410519364\n",
      "P-value: 6.313802433237384e-10\n"
     ]
    }
   ],
   "source": [
    "crosstab5 = pd.crosstab(salary[\"employment_type\"], pd.qcut(salary[\"salary_in_usd\"], q=3))\n",
    "chi2_stat, p_value, _, _ = chi2_contingency(crosstab5)\n",
    "print(\"Chi-square test statistic:\", chi2_stat)\n",
    "print(\"P-value:\", p_value)"
   ]
  },
  {
   "cell_type": "code",
   "execution_count": 13,
   "id": "0c2b1f4b",
   "metadata": {},
   "outputs": [
    {
     "name": "stdout",
     "output_type": "stream",
     "text": [
      "Chi-square test statistic: 205.72309211971253\n",
      "P-value: 2.2092910300773363e-43\n"
     ]
    }
   ],
   "source": [
    "crosstab6 = pd.crosstab(salary[\"company_size\"], pd.qcut(salary[\"salary_in_usd\"], q=3))\n",
    "chi2_stat, p_value, _, _ = chi2_contingency(crosstab6)\n",
    "print(\"Chi-square test statistic:\", chi2_stat)\n",
    "print(\"P-value:\", p_value)"
   ]
  },
  {
   "cell_type": "code",
   "execution_count": 14,
   "id": "2716b557",
   "metadata": {},
   "outputs": [
    {
     "name": "stdout",
     "output_type": "stream",
     "text": [
      "Chi-square test statistic: 217.2226530475076\n",
      "P-value: 4.0683399537071827e-44\n"
     ]
    }
   ],
   "source": [
    "crosstab7 = pd.crosstab(salary[\"work_year\"], pd.qcut(salary[\"salary_in_usd\"], q=3))\n",
    "chi2_stat, p_value, _, _ = chi2_contingency(crosstab7)\n",
    "print(\"Chi-square test statistic:\", chi2_stat)\n",
    "print(\"P-value:\", p_value)"
   ]
  },
  {
   "cell_type": "code",
   "execution_count": 15,
   "id": "cfc1fea4",
   "metadata": {},
   "outputs": [
    {
     "name": "stdout",
     "output_type": "stream",
     "text": [
      "Chi-square test statistic: 1046.071230063991\n",
      "P-value: 1.3475765499499507e-137\n"
     ]
    }
   ],
   "source": [
    "crosstab8 = pd.crosstab(salary[\"company_location\"], pd.qcut(salary[\"salary_in_usd\"], q=3))\n",
    "chi2_stat, p_value, _, _ = chi2_contingency(crosstab8)\n",
    "print(\"Chi-square test statistic:\", chi2_stat)\n",
    "print(\"P-value:\", p_value)"
   ]
  },
  {
   "cell_type": "code",
   "execution_count": 16,
   "id": "wQvMQrrCYQMT",
   "metadata": {
    "id": "wQvMQrrCYQMT"
   },
   "outputs": [],
   "source": [
    "# Define the columns to be encoded\n",
    "columns_to_encode = ['job_title', 'employee_residence', 'company_location', 'employment_type', 'salary_currency', 'experience_level', 'company_size', 'work_year']\n",
    "\n",
    "# Separate the selected columns from the 'salary' DataFrame\n",
    "data_to_encode = salary[columns_to_encode]\n",
    "\n",
    "# Initialize the OneHotEncoder\n",
    "encoder = OneHotEncoder()\n",
    "\n",
    "# Fit and transform the data to one-hot encode the categorical columns\n",
    "encoded_data = encoder.fit_transform(data_to_encode)\n",
    "\n",
    "# Get the column names after one-hot encoding\n",
    "encoded_columns = encoder.get_feature_names_out(input_features=columns_to_encode)\n",
    "\n",
    "# Convert the resulting sparse matrix to a DataFrame with the correct column names\n",
    "encoded_df = pd.DataFrame(encoded_data.toarray(), columns=encoded_columns)\n",
    "\n",
    "# Separate the non-categorical columns \n",
    "data_numerical = salary.drop(columns=columns_to_encode)\n",
    "\n",
    "# Initialize the MinMaxScaler\n",
    "\n",
    "scaler = MinMaxScaler()\n",
    "\n",
    "# Fit and transform the non-categorical data to scale the numerical features\n",
    "data_numerical_scaled = scaler.fit_transform(data_numerical)\n",
    "\n",
    "# Convert the scaled numerical data to a DataFrame\n",
    "data_numerical_scaled_df = pd.DataFrame(data_numerical_scaled, columns=data_numerical.columns)\n",
    "\n",
    "# Concatenate the scaled numerical data and the encoded DataFrame to the original 'salary' DataFrame\n",
    "salary_encoded = pd.concat([data_numerical_scaled_df, encoded_df], axis=1)"
   ]
  },
  {
   "cell_type": "code",
   "execution_count": 17,
   "id": "da346431",
   "metadata": {},
   "outputs": [
    {
     "data": {
      "text/html": [
       "<div>\n",
       "<style scoped>\n",
       "    .dataframe tbody tr th:only-of-type {\n",
       "        vertical-align: middle;\n",
       "    }\n",
       "\n",
       "    .dataframe tbody tr th {\n",
       "        vertical-align: top;\n",
       "    }\n",
       "\n",
       "    .dataframe thead th {\n",
       "        text-align: right;\n",
       "    }\n",
       "</style>\n",
       "<table border=\"1\" class=\"dataframe\">\n",
       "  <thead>\n",
       "    <tr style=\"text-align: right;\">\n",
       "      <th></th>\n",
       "      <th>salary</th>\n",
       "      <th>salary_in_usd</th>\n",
       "      <th>remote_ratio</th>\n",
       "      <th>job_title_3D Computer Vision Researcher</th>\n",
       "      <th>job_title_AI Developer</th>\n",
       "      <th>job_title_AI Programmer</th>\n",
       "      <th>job_title_AI Scientist</th>\n",
       "      <th>job_title_Analytics Engineer</th>\n",
       "      <th>job_title_Applied Data Scientist</th>\n",
       "      <th>job_title_Applied Machine Learning Engineer</th>\n",
       "      <th>...</th>\n",
       "      <th>experience_level_EX</th>\n",
       "      <th>experience_level_MI</th>\n",
       "      <th>experience_level_SE</th>\n",
       "      <th>company_size_L</th>\n",
       "      <th>company_size_M</th>\n",
       "      <th>company_size_S</th>\n",
       "      <th>work_year_2020</th>\n",
       "      <th>work_year_2021</th>\n",
       "      <th>work_year_2022</th>\n",
       "      <th>work_year_2023</th>\n",
       "    </tr>\n",
       "  </thead>\n",
       "  <tbody>\n",
       "    <tr>\n",
       "      <th>0</th>\n",
       "      <td>0.002435</td>\n",
       "      <td>0.181436</td>\n",
       "      <td>1.0</td>\n",
       "      <td>0.0</td>\n",
       "      <td>0.0</td>\n",
       "      <td>0.0</td>\n",
       "      <td>0.0</td>\n",
       "      <td>0.0</td>\n",
       "      <td>0.0</td>\n",
       "      <td>0.0</td>\n",
       "      <td>...</td>\n",
       "      <td>0.0</td>\n",
       "      <td>0.0</td>\n",
       "      <td>1.0</td>\n",
       "      <td>1.0</td>\n",
       "      <td>0.0</td>\n",
       "      <td>0.0</td>\n",
       "      <td>0.0</td>\n",
       "      <td>0.0</td>\n",
       "      <td>0.0</td>\n",
       "      <td>1.0</td>\n",
       "    </tr>\n",
       "    <tr>\n",
       "      <th>1</th>\n",
       "      <td>0.000790</td>\n",
       "      <td>0.055900</td>\n",
       "      <td>1.0</td>\n",
       "      <td>0.0</td>\n",
       "      <td>0.0</td>\n",
       "      <td>0.0</td>\n",
       "      <td>0.0</td>\n",
       "      <td>0.0</td>\n",
       "      <td>0.0</td>\n",
       "      <td>0.0</td>\n",
       "      <td>...</td>\n",
       "      <td>0.0</td>\n",
       "      <td>1.0</td>\n",
       "      <td>0.0</td>\n",
       "      <td>0.0</td>\n",
       "      <td>0.0</td>\n",
       "      <td>1.0</td>\n",
       "      <td>0.0</td>\n",
       "      <td>0.0</td>\n",
       "      <td>0.0</td>\n",
       "      <td>1.0</td>\n",
       "    </tr>\n",
       "    <tr>\n",
       "      <th>2</th>\n",
       "      <td>0.000642</td>\n",
       "      <td>0.045784</td>\n",
       "      <td>1.0</td>\n",
       "      <td>0.0</td>\n",
       "      <td>0.0</td>\n",
       "      <td>0.0</td>\n",
       "      <td>0.0</td>\n",
       "      <td>0.0</td>\n",
       "      <td>0.0</td>\n",
       "      <td>0.0</td>\n",
       "      <td>...</td>\n",
       "      <td>0.0</td>\n",
       "      <td>1.0</td>\n",
       "      <td>0.0</td>\n",
       "      <td>0.0</td>\n",
       "      <td>0.0</td>\n",
       "      <td>1.0</td>\n",
       "      <td>0.0</td>\n",
       "      <td>0.0</td>\n",
       "      <td>0.0</td>\n",
       "      <td>1.0</td>\n",
       "    </tr>\n",
       "    <tr>\n",
       "      <th>3</th>\n",
       "      <td>0.005560</td>\n",
       "      <td>0.381839</td>\n",
       "      <td>1.0</td>\n",
       "      <td>0.0</td>\n",
       "      <td>0.0</td>\n",
       "      <td>0.0</td>\n",
       "      <td>0.0</td>\n",
       "      <td>0.0</td>\n",
       "      <td>0.0</td>\n",
       "      <td>0.0</td>\n",
       "      <td>...</td>\n",
       "      <td>0.0</td>\n",
       "      <td>0.0</td>\n",
       "      <td>1.0</td>\n",
       "      <td>0.0</td>\n",
       "      <td>1.0</td>\n",
       "      <td>0.0</td>\n",
       "      <td>0.0</td>\n",
       "      <td>0.0</td>\n",
       "      <td>0.0</td>\n",
       "      <td>1.0</td>\n",
       "    </tr>\n",
       "    <tr>\n",
       "      <th>4</th>\n",
       "      <td>0.003751</td>\n",
       "      <td>0.258207</td>\n",
       "      <td>1.0</td>\n",
       "      <td>0.0</td>\n",
       "      <td>0.0</td>\n",
       "      <td>0.0</td>\n",
       "      <td>0.0</td>\n",
       "      <td>0.0</td>\n",
       "      <td>0.0</td>\n",
       "      <td>0.0</td>\n",
       "      <td>...</td>\n",
       "      <td>0.0</td>\n",
       "      <td>0.0</td>\n",
       "      <td>1.0</td>\n",
       "      <td>0.0</td>\n",
       "      <td>1.0</td>\n",
       "      <td>0.0</td>\n",
       "      <td>0.0</td>\n",
       "      <td>0.0</td>\n",
       "      <td>0.0</td>\n",
       "      <td>1.0</td>\n",
       "    </tr>\n",
       "    <tr>\n",
       "      <th>...</th>\n",
       "      <td>...</td>\n",
       "      <td>...</td>\n",
       "      <td>...</td>\n",
       "      <td>...</td>\n",
       "      <td>...</td>\n",
       "      <td>...</td>\n",
       "      <td>...</td>\n",
       "      <td>...</td>\n",
       "      <td>...</td>\n",
       "      <td>...</td>\n",
       "      <td>...</td>\n",
       "      <td>...</td>\n",
       "      <td>...</td>\n",
       "      <td>...</td>\n",
       "      <td>...</td>\n",
       "      <td>...</td>\n",
       "      <td>...</td>\n",
       "      <td>...</td>\n",
       "      <td>...</td>\n",
       "      <td>...</td>\n",
       "      <td>...</td>\n",
       "    </tr>\n",
       "    <tr>\n",
       "      <th>3750</th>\n",
       "      <td>0.013358</td>\n",
       "      <td>0.914581</td>\n",
       "      <td>1.0</td>\n",
       "      <td>0.0</td>\n",
       "      <td>0.0</td>\n",
       "      <td>0.0</td>\n",
       "      <td>0.0</td>\n",
       "      <td>0.0</td>\n",
       "      <td>0.0</td>\n",
       "      <td>0.0</td>\n",
       "      <td>...</td>\n",
       "      <td>0.0</td>\n",
       "      <td>0.0</td>\n",
       "      <td>1.0</td>\n",
       "      <td>1.0</td>\n",
       "      <td>0.0</td>\n",
       "      <td>0.0</td>\n",
       "      <td>1.0</td>\n",
       "      <td>0.0</td>\n",
       "      <td>0.0</td>\n",
       "      <td>0.0</td>\n",
       "    </tr>\n",
       "    <tr>\n",
       "      <th>3751</th>\n",
       "      <td>0.004771</td>\n",
       "      <td>0.327891</td>\n",
       "      <td>1.0</td>\n",
       "      <td>0.0</td>\n",
       "      <td>0.0</td>\n",
       "      <td>0.0</td>\n",
       "      <td>0.0</td>\n",
       "      <td>0.0</td>\n",
       "      <td>0.0</td>\n",
       "      <td>0.0</td>\n",
       "      <td>...</td>\n",
       "      <td>0.0</td>\n",
       "      <td>1.0</td>\n",
       "      <td>0.0</td>\n",
       "      <td>1.0</td>\n",
       "      <td>0.0</td>\n",
       "      <td>0.0</td>\n",
       "      <td>0.0</td>\n",
       "      <td>1.0</td>\n",
       "      <td>0.0</td>\n",
       "      <td>0.0</td>\n",
       "    </tr>\n",
       "    <tr>\n",
       "      <th>3752</th>\n",
       "      <td>0.003257</td>\n",
       "      <td>0.224489</td>\n",
       "      <td>1.0</td>\n",
       "      <td>0.0</td>\n",
       "      <td>0.0</td>\n",
       "      <td>0.0</td>\n",
       "      <td>0.0</td>\n",
       "      <td>0.0</td>\n",
       "      <td>0.0</td>\n",
       "      <td>0.0</td>\n",
       "      <td>...</td>\n",
       "      <td>0.0</td>\n",
       "      <td>0.0</td>\n",
       "      <td>0.0</td>\n",
       "      <td>0.0</td>\n",
       "      <td>0.0</td>\n",
       "      <td>1.0</td>\n",
       "      <td>1.0</td>\n",
       "      <td>0.0</td>\n",
       "      <td>0.0</td>\n",
       "      <td>0.0</td>\n",
       "    </tr>\n",
       "    <tr>\n",
       "      <th>3753</th>\n",
       "      <td>0.003093</td>\n",
       "      <td>0.213250</td>\n",
       "      <td>1.0</td>\n",
       "      <td>0.0</td>\n",
       "      <td>0.0</td>\n",
       "      <td>0.0</td>\n",
       "      <td>0.0</td>\n",
       "      <td>0.0</td>\n",
       "      <td>0.0</td>\n",
       "      <td>0.0</td>\n",
       "      <td>...</td>\n",
       "      <td>0.0</td>\n",
       "      <td>0.0</td>\n",
       "      <td>0.0</td>\n",
       "      <td>1.0</td>\n",
       "      <td>0.0</td>\n",
       "      <td>0.0</td>\n",
       "      <td>1.0</td>\n",
       "      <td>0.0</td>\n",
       "      <td>0.0</td>\n",
       "      <td>0.0</td>\n",
       "    </tr>\n",
       "    <tr>\n",
       "      <th>3754</th>\n",
       "      <td>0.230111</td>\n",
       "      <td>0.201257</td>\n",
       "      <td>0.5</td>\n",
       "      <td>0.0</td>\n",
       "      <td>0.0</td>\n",
       "      <td>0.0</td>\n",
       "      <td>0.0</td>\n",
       "      <td>0.0</td>\n",
       "      <td>0.0</td>\n",
       "      <td>0.0</td>\n",
       "      <td>...</td>\n",
       "      <td>0.0</td>\n",
       "      <td>0.0</td>\n",
       "      <td>1.0</td>\n",
       "      <td>1.0</td>\n",
       "      <td>0.0</td>\n",
       "      <td>0.0</td>\n",
       "      <td>0.0</td>\n",
       "      <td>1.0</td>\n",
       "      <td>0.0</td>\n",
       "      <td>0.0</td>\n",
       "    </tr>\n",
       "  </tbody>\n",
       "</table>\n",
       "<p>3755 rows × 281 columns</p>\n",
       "</div>"
      ],
      "text/plain": [
       "        salary  salary_in_usd  remote_ratio   \n",
       "0     0.002435       0.181436           1.0  \\\n",
       "1     0.000790       0.055900           1.0   \n",
       "2     0.000642       0.045784           1.0   \n",
       "3     0.005560       0.381839           1.0   \n",
       "4     0.003751       0.258207           1.0   \n",
       "...        ...            ...           ...   \n",
       "3750  0.013358       0.914581           1.0   \n",
       "3751  0.004771       0.327891           1.0   \n",
       "3752  0.003257       0.224489           1.0   \n",
       "3753  0.003093       0.213250           1.0   \n",
       "3754  0.230111       0.201257           0.5   \n",
       "\n",
       "      job_title_3D Computer Vision Researcher  job_title_AI Developer   \n",
       "0                                         0.0                     0.0  \\\n",
       "1                                         0.0                     0.0   \n",
       "2                                         0.0                     0.0   \n",
       "3                                         0.0                     0.0   \n",
       "4                                         0.0                     0.0   \n",
       "...                                       ...                     ...   \n",
       "3750                                      0.0                     0.0   \n",
       "3751                                      0.0                     0.0   \n",
       "3752                                      0.0                     0.0   \n",
       "3753                                      0.0                     0.0   \n",
       "3754                                      0.0                     0.0   \n",
       "\n",
       "      job_title_AI Programmer  job_title_AI Scientist   \n",
       "0                         0.0                     0.0  \\\n",
       "1                         0.0                     0.0   \n",
       "2                         0.0                     0.0   \n",
       "3                         0.0                     0.0   \n",
       "4                         0.0                     0.0   \n",
       "...                       ...                     ...   \n",
       "3750                      0.0                     0.0   \n",
       "3751                      0.0                     0.0   \n",
       "3752                      0.0                     0.0   \n",
       "3753                      0.0                     0.0   \n",
       "3754                      0.0                     0.0   \n",
       "\n",
       "      job_title_Analytics Engineer  job_title_Applied Data Scientist   \n",
       "0                              0.0                               0.0  \\\n",
       "1                              0.0                               0.0   \n",
       "2                              0.0                               0.0   \n",
       "3                              0.0                               0.0   \n",
       "4                              0.0                               0.0   \n",
       "...                            ...                               ...   \n",
       "3750                           0.0                               0.0   \n",
       "3751                           0.0                               0.0   \n",
       "3752                           0.0                               0.0   \n",
       "3753                           0.0                               0.0   \n",
       "3754                           0.0                               0.0   \n",
       "\n",
       "      job_title_Applied Machine Learning Engineer  ...  experience_level_EX   \n",
       "0                                             0.0  ...                  0.0  \\\n",
       "1                                             0.0  ...                  0.0   \n",
       "2                                             0.0  ...                  0.0   \n",
       "3                                             0.0  ...                  0.0   \n",
       "4                                             0.0  ...                  0.0   \n",
       "...                                           ...  ...                  ...   \n",
       "3750                                          0.0  ...                  0.0   \n",
       "3751                                          0.0  ...                  0.0   \n",
       "3752                                          0.0  ...                  0.0   \n",
       "3753                                          0.0  ...                  0.0   \n",
       "3754                                          0.0  ...                  0.0   \n",
       "\n",
       "      experience_level_MI  experience_level_SE  company_size_L   \n",
       "0                     0.0                  1.0             1.0  \\\n",
       "1                     1.0                  0.0             0.0   \n",
       "2                     1.0                  0.0             0.0   \n",
       "3                     0.0                  1.0             0.0   \n",
       "4                     0.0                  1.0             0.0   \n",
       "...                   ...                  ...             ...   \n",
       "3750                  0.0                  1.0             1.0   \n",
       "3751                  1.0                  0.0             1.0   \n",
       "3752                  0.0                  0.0             0.0   \n",
       "3753                  0.0                  0.0             1.0   \n",
       "3754                  0.0                  1.0             1.0   \n",
       "\n",
       "      company_size_M  company_size_S  work_year_2020  work_year_2021   \n",
       "0                0.0             0.0             0.0             0.0  \\\n",
       "1                0.0             1.0             0.0             0.0   \n",
       "2                0.0             1.0             0.0             0.0   \n",
       "3                1.0             0.0             0.0             0.0   \n",
       "4                1.0             0.0             0.0             0.0   \n",
       "...              ...             ...             ...             ...   \n",
       "3750             0.0             0.0             1.0             0.0   \n",
       "3751             0.0             0.0             0.0             1.0   \n",
       "3752             0.0             1.0             1.0             0.0   \n",
       "3753             0.0             0.0             1.0             0.0   \n",
       "3754             0.0             0.0             0.0             1.0   \n",
       "\n",
       "      work_year_2022  work_year_2023  \n",
       "0                0.0             1.0  \n",
       "1                0.0             1.0  \n",
       "2                0.0             1.0  \n",
       "3                0.0             1.0  \n",
       "4                0.0             1.0  \n",
       "...              ...             ...  \n",
       "3750             0.0             0.0  \n",
       "3751             0.0             0.0  \n",
       "3752             0.0             0.0  \n",
       "3753             0.0             0.0  \n",
       "3754             0.0             0.0  \n",
       "\n",
       "[3755 rows x 281 columns]"
      ]
     },
     "execution_count": 17,
     "metadata": {},
     "output_type": "execute_result"
    }
   ],
   "source": [
    "salary_encoded"
   ]
  },
  {
   "cell_type": "code",
   "execution_count": 18,
   "id": "a2e1a6fc",
   "metadata": {
    "id": "a2e1a6fc"
   },
   "outputs": [],
   "source": [
    "X = salary_encoded.drop(columns=['salary_in_usd','salary'], axis=1)\n",
    "Y = salary['salary_in_usd']"
   ]
  },
  {
   "cell_type": "code",
   "execution_count": 19,
   "id": "JkV-uxoiAv69",
   "metadata": {
    "id": "JkV-uxoiAv69"
   },
   "outputs": [],
   "source": [
    "# Split the dataset into training (80%), validation (10%), and test (10%) sets\n",
    "\n",
    "X_train, X_val_test, y_train, y_val_test = train_test_split(X, Y, test_size=0.2, random_state=42)\n",
    "X_val, X_test, y_val, y_test = train_test_split(X_val_test, y_val_test, test_size=0.5, random_state=42)"
   ]
  },
  {
   "cell_type": "code",
   "execution_count": 20,
   "id": "1d2828a3",
   "metadata": {},
   "outputs": [
    {
     "name": "stdout",
     "output_type": "stream",
     "text": [
      "Validation Set:\n",
      "R2 Score: -8.07016260464229e+23\n",
      "RMSE: 5.514916937988124e+16\n",
      "\n",
      "Testing Set:\n",
      "R2 Score: -5.344295225177302e+23\n",
      "RMSE: 4.681211785297139e+16\n"
     ]
    }
   ],
   "source": [
    "model = LinearRegression()\n",
    "\n",
    "# Train the model on the training set\n",
    "model.fit(X_train,y_train)\n",
    "\n",
    "# Predict on the validation set\n",
    "y_pred_val = model.predict(X_val)\n",
    "\n",
    "# Calculate R2 score and RMSE on the validation set\n",
    "val_r2 = r2_score(y_val, y_pred_val)\n",
    "val_rmse = mean_squared_error(y_val, y_pred_val, squared=False)\n",
    "\n",
    "# Predict on the testing set\n",
    "y_pred_test = model.predict(X_test)\n",
    "\n",
    "# Calculate R2 score and RMSE on the testing set\n",
    "test_r2 = r2_score(y_test, y_pred_test)\n",
    "test_rmse = mean_squared_error(y_test, y_pred_test, squared=False)\n",
    "\n",
    "# Print the evaluation results\n",
    "print(\"Validation Set:\")\n",
    "print(\"R2 Score:\", val_r2)\n",
    "print(\"RMSE:\", val_rmse)\n",
    "print()\n",
    "print(\"Testing Set:\")\n",
    "print(\"R2 Score:\", test_r2)\n",
    "print(\"RMSE:\", test_rmse)"
   ]
  },
  {
   "cell_type": "code",
   "execution_count": 21,
   "id": "d2026a58",
   "metadata": {
    "colab": {
     "base_uri": "https://localhost:8080/"
    },
    "id": "d2026a58",
    "outputId": "e7128f46-7d35-40cc-fbd7-9388393e1d84"
   },
   "outputs": [
    {
     "name": "stdout",
     "output_type": "stream",
     "text": [
      "Validation Set:\n",
      "R2 Score: 0.44240636275877476\n",
      "RMSE: 45841.28021927755\n",
      "\n",
      "Testing Set:\n",
      "R2 Score: 0.36091820862330715\n",
      "RMSE: 51190.72626641306\n"
     ]
    }
   ],
   "source": [
    "# Create the Random Forest Regressor\n",
    "rf_model = RandomForestRegressor(n_estimators=100, random_state=42)\n",
    "\n",
    "# Train the model on the training set\n",
    "rf_model.fit(X_train, y_train)\n",
    "\n",
    "# Predict on the validation set\n",
    "y_pred_val = rf_model.predict(X_val)\n",
    "\n",
    "# Calculate R2 score and RMSE on the validation set\n",
    "val_r2 = r2_score(y_val, y_pred_val)\n",
    "val_rmse = mean_squared_error(y_val, y_pred_val, squared=False)\n",
    "\n",
    "# Predict on the testing set\n",
    "y_pred_test = rf_model.predict(X_test)\n",
    "\n",
    "# Calculate R2 score and RMSE on the testing set\n",
    "test_r2 = r2_score(y_test, y_pred_test)\n",
    "test_rmse = mean_squared_error(y_test, y_pred_test, squared=False)\n",
    "\n",
    "# Print the evaluation results\n",
    "print(\"Validation Set:\")\n",
    "print(\"R2 Score:\", val_r2)\n",
    "print(\"RMSE:\", val_rmse)\n",
    "print()\n",
    "print(\"Testing Set:\")\n",
    "print(\"R2 Score:\", test_r2)\n",
    "print(\"RMSE:\", test_rmse)"
   ]
  },
  {
   "cell_type": "code",
   "execution_count": null,
   "id": "bfb36dbe",
   "metadata": {},
   "outputs": [],
   "source": []
  }
 ],
 "metadata": {
  "colab": {
   "provenance": []
  },
  "kernelspec": {
   "display_name": "Python 3 (ipykernel)",
   "language": "python",
   "name": "python3"
  },
  "language_info": {
   "codemirror_mode": {
    "name": "ipython",
    "version": 3
   },
   "file_extension": ".py",
   "mimetype": "text/x-python",
   "name": "python",
   "nbconvert_exporter": "python",
   "pygments_lexer": "ipython3",
   "version": "3.11.3"
  }
 },
 "nbformat": 4,
 "nbformat_minor": 5
}
