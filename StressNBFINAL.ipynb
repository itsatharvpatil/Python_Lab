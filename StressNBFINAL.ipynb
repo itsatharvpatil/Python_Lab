{
 "cells": [
  {
   "cell_type": "code",
   "execution_count": 1,
   "metadata": {
    "id": "VBqOtStQJdsN"
   },
   "outputs": [],
   "source": [
    "import pandas as pd\n",
    "from sklearn.feature_extraction.text import CountVectorizer\n",
    "from sklearn.model_selection import train_test_split\n",
    "from sklearn.naive_bayes import MultinomialNB\n",
    "from sklearn.metrics import accuracy_score"
   ]
  },
  {
   "cell_type": "code",
   "execution_count": 2,
   "metadata": {
    "id": "mz_8_gcBKHjx"
   },
   "outputs": [],
   "source": [
    "stress = pd.read_csv(\"C:/Users/Atharv/Downloads/ERFOLG PYTHON LAB/EX3/stress_train.csv\")"
   ]
  },
  {
   "cell_type": "code",
   "execution_count": 3,
   "metadata": {
    "colab": {
     "base_uri": "https://localhost:8080/",
     "height": 664
    },
    "id": "Q4qEH89aKNk9",
    "outputId": "61086cfb-e60c-46fc-bbc8-30c64940c704"
   },
   "outputs": [
    {
     "data": {
      "text/html": [
       "<div>\n",
       "<style scoped>\n",
       "    .dataframe tbody tr th:only-of-type {\n",
       "        vertical-align: middle;\n",
       "    }\n",
       "\n",
       "    .dataframe tbody tr th {\n",
       "        vertical-align: top;\n",
       "    }\n",
       "\n",
       "    .dataframe thead th {\n",
       "        text-align: right;\n",
       "    }\n",
       "</style>\n",
       "<table border=\"1\" class=\"dataframe\">\n",
       "  <thead>\n",
       "    <tr style=\"text-align: right;\">\n",
       "      <th></th>\n",
       "      <th>Unnamed: 0</th>\n",
       "      <th>subreddit</th>\n",
       "      <th>post_id</th>\n",
       "      <th>sentence_range</th>\n",
       "      <th>text</th>\n",
       "      <th>id</th>\n",
       "      <th>label</th>\n",
       "      <th>confidence</th>\n",
       "      <th>social_timestamp</th>\n",
       "      <th>social_karma</th>\n",
       "      <th>...</th>\n",
       "      <th>lex_dal_min_imagery</th>\n",
       "      <th>lex_dal_avg_activation</th>\n",
       "      <th>lex_dal_avg_imagery</th>\n",
       "      <th>lex_dal_avg_pleasantness</th>\n",
       "      <th>social_upvote_ratio</th>\n",
       "      <th>social_num_comments</th>\n",
       "      <th>syntax_fk_grade</th>\n",
       "      <th>sentiment</th>\n",
       "      <th>Unnamed: 117</th>\n",
       "      <th>Unnamed: 118</th>\n",
       "    </tr>\n",
       "  </thead>\n",
       "  <tbody>\n",
       "    <tr>\n",
       "      <th>0</th>\n",
       "      <td>1314</td>\n",
       "      <td>domesticviolence</td>\n",
       "      <td>972956</td>\n",
       "      <td>[5, 10]</td>\n",
       "      <td>We get no child support and are doing well fin...</td>\n",
       "      <td>2076</td>\n",
       "      <td>1.0</td>\n",
       "      <td>0.6</td>\n",
       "      <td>1.534195e+09</td>\n",
       "      <td>13</td>\n",
       "      <td>...</td>\n",
       "      <td>1.0</td>\n",
       "      <td>1.71867</td>\n",
       "      <td>1.59778</td>\n",
       "      <td>1.86707</td>\n",
       "      <td>0.94</td>\n",
       "      <td>6.0</td>\n",
       "      <td>7.058157</td>\n",
       "      <td>0.200000</td>\n",
       "      <td>NaN</td>\n",
       "      <td>NaN</td>\n",
       "    </tr>\n",
       "    <tr>\n",
       "      <th>1</th>\n",
       "      <td>654</td>\n",
       "      <td>stress</td>\n",
       "      <td>9or3wy</td>\n",
       "      <td>[0, 5]</td>\n",
       "      <td>&amp;#x200B; Hey everyone, Being that Hurricane Fl...</td>\n",
       "      <td>1386</td>\n",
       "      <td>1.0</td>\n",
       "      <td>1.0</td>\n",
       "      <td>1.539719e+09</td>\n",
       "      <td>1</td>\n",
       "      <td>...</td>\n",
       "      <td>1.0</td>\n",
       "      <td>1.73575</td>\n",
       "      <td>1.54257</td>\n",
       "      <td>1.87590</td>\n",
       "      <td>0.67</td>\n",
       "      <td>0.0</td>\n",
       "      <td>13.960399</td>\n",
       "      <td>0.080093</td>\n",
       "      <td>NaN</td>\n",
       "      <td>NaN</td>\n",
       "    </tr>\n",
       "    <tr>\n",
       "      <th>2</th>\n",
       "      <td>898</td>\n",
       "      <td>ptsd</td>\n",
       "      <td>9fc7wk</td>\n",
       "      <td>[15, 20]</td>\n",
       "      <td>Woke up 4 days later, intubated and paralyzed....</td>\n",
       "      <td>928</td>\n",
       "      <td>0.0</td>\n",
       "      <td>0.8</td>\n",
       "      <td>1.536790e+09</td>\n",
       "      <td>8</td>\n",
       "      <td>...</td>\n",
       "      <td>1.0</td>\n",
       "      <td>1.75904</td>\n",
       "      <td>1.50370</td>\n",
       "      <td>1.83029</td>\n",
       "      <td>1.00</td>\n",
       "      <td>6.0</td>\n",
       "      <td>4.436667</td>\n",
       "      <td>0.200000</td>\n",
       "      <td>NaN</td>\n",
       "      <td>NaN</td>\n",
       "    </tr>\n",
       "    <tr>\n",
       "      <th>3</th>\n",
       "      <td>2519</td>\n",
       "      <td>relationships</td>\n",
       "      <td>7nmgmt</td>\n",
       "      <td>[10, 15]</td>\n",
       "      <td>I’m also quite intellectual, I can speak 2 lan...</td>\n",
       "      <td>799</td>\n",
       "      <td>1.0</td>\n",
       "      <td>0.8</td>\n",
       "      <td>1.514900e+09</td>\n",
       "      <td>2</td>\n",
       "      <td>...</td>\n",
       "      <td>1.0</td>\n",
       "      <td>1.70574</td>\n",
       "      <td>1.57705</td>\n",
       "      <td>1.91689</td>\n",
       "      <td>1.00</td>\n",
       "      <td>8.0</td>\n",
       "      <td>8.146233</td>\n",
       "      <td>0.107018</td>\n",
       "      <td>NaN</td>\n",
       "      <td>NaN</td>\n",
       "    </tr>\n",
       "    <tr>\n",
       "      <th>4</th>\n",
       "      <td>1982</td>\n",
       "      <td>assistance</td>\n",
       "      <td>7cmiju</td>\n",
       "      <td>[50, 55]</td>\n",
       "      <td>I don't need that. This sucks but is far from ...</td>\n",
       "      <td>645</td>\n",
       "      <td>1.0</td>\n",
       "      <td>0.6</td>\n",
       "      <td>1.510573e+09</td>\n",
       "      <td>45</td>\n",
       "      <td>...</td>\n",
       "      <td>1.0</td>\n",
       "      <td>1.73126</td>\n",
       "      <td>1.62500</td>\n",
       "      <td>1.81763</td>\n",
       "      <td>0.89</td>\n",
       "      <td>19.0</td>\n",
       "      <td>1.031111</td>\n",
       "      <td>-0.225000</td>\n",
       "      <td>NaN</td>\n",
       "      <td>NaN</td>\n",
       "    </tr>\n",
       "  </tbody>\n",
       "</table>\n",
       "<p>5 rows × 119 columns</p>\n",
       "</div>"
      ],
      "text/plain": [
       "   Unnamed: 0         subreddit post_id sentence_range   \n",
       "0        1314  domesticviolence  972956        [5, 10]  \\\n",
       "1         654            stress  9or3wy         [0, 5]   \n",
       "2         898              ptsd  9fc7wk       [15, 20]   \n",
       "3        2519     relationships  7nmgmt       [10, 15]   \n",
       "4        1982        assistance  7cmiju       [50, 55]   \n",
       "\n",
       "                                                text    id  label  confidence   \n",
       "0  We get no child support and are doing well fin...  2076    1.0         0.6  \\\n",
       "1  &#x200B; Hey everyone, Being that Hurricane Fl...  1386    1.0         1.0   \n",
       "2  Woke up 4 days later, intubated and paralyzed....   928    0.0         0.8   \n",
       "3  I’m also quite intellectual, I can speak 2 lan...   799    1.0         0.8   \n",
       "4  I don't need that. This sucks but is far from ...   645    1.0         0.6   \n",
       "\n",
       "   social_timestamp  social_karma  ...  lex_dal_min_imagery   \n",
       "0      1.534195e+09            13  ...                  1.0  \\\n",
       "1      1.539719e+09             1  ...                  1.0   \n",
       "2      1.536790e+09             8  ...                  1.0   \n",
       "3      1.514900e+09             2  ...                  1.0   \n",
       "4      1.510573e+09            45  ...                  1.0   \n",
       "\n",
       "   lex_dal_avg_activation  lex_dal_avg_imagery  lex_dal_avg_pleasantness   \n",
       "0                 1.71867              1.59778                   1.86707  \\\n",
       "1                 1.73575              1.54257                   1.87590   \n",
       "2                 1.75904              1.50370                   1.83029   \n",
       "3                 1.70574              1.57705                   1.91689   \n",
       "4                 1.73126              1.62500                   1.81763   \n",
       "\n",
       "   social_upvote_ratio  social_num_comments  syntax_fk_grade  sentiment   \n",
       "0                 0.94                  6.0         7.058157   0.200000  \\\n",
       "1                 0.67                  0.0        13.960399   0.080093   \n",
       "2                 1.00                  6.0         4.436667   0.200000   \n",
       "3                 1.00                  8.0         8.146233   0.107018   \n",
       "4                 0.89                 19.0         1.031111  -0.225000   \n",
       "\n",
       "   Unnamed: 117  Unnamed: 118  \n",
       "0           NaN           NaN  \n",
       "1           NaN           NaN  \n",
       "2           NaN           NaN  \n",
       "3           NaN           NaN  \n",
       "4           NaN           NaN  \n",
       "\n",
       "[5 rows x 119 columns]"
      ]
     },
     "execution_count": 3,
     "metadata": {},
     "output_type": "execute_result"
    }
   ],
   "source": [
    "stress.head()"
   ]
  },
  {
   "cell_type": "code",
   "execution_count": 4,
   "metadata": {
    "colab": {
     "base_uri": "https://localhost:8080/"
    },
    "id": "-lH5yOo0KPww",
    "outputId": "8a72b447-cdec-4ec5-868a-e2a34d09706f"
   },
   "outputs": [
    {
     "data": {
      "text/plain": [
       "(1817, 119)"
      ]
     },
     "execution_count": 4,
     "metadata": {},
     "output_type": "execute_result"
    }
   ],
   "source": [
    "stress.shape"
   ]
  },
  {
   "cell_type": "code",
   "execution_count": 5,
   "metadata": {
    "colab": {
     "base_uri": "https://localhost:8080/"
    },
    "id": "9Y_EeMxTKSGs",
    "outputId": "3b7e9a84-70e7-40c8-a4ff-7f2f265ce1a8"
   },
   "outputs": [
    {
     "data": {
      "text/plain": [
       "Unnamed: 0                0\n",
       "subreddit                 0\n",
       "post_id                   0\n",
       "sentence_range            0\n",
       "text                      0\n",
       "                       ... \n",
       "social_num_comments       0\n",
       "syntax_fk_grade           0\n",
       "sentiment                 0\n",
       "Unnamed: 117           1801\n",
       "Unnamed: 118           1816\n",
       "Length: 119, dtype: int64"
      ]
     },
     "execution_count": 5,
     "metadata": {},
     "output_type": "execute_result"
    }
   ],
   "source": [
    "stress.isnull().sum()"
   ]
  },
  {
   "cell_type": "code",
   "execution_count": 6,
   "metadata": {
    "id": "LDSOozSfMqkM"
   },
   "outputs": [],
   "source": [
    "X = stress.drop('label', axis =1)\n",
    "Y = stress['label']"
   ]
  },
  {
   "cell_type": "code",
   "execution_count": 7,
   "metadata": {
    "id": "LAeUwaIwPZFB"
   },
   "outputs": [],
   "source": [
    "Y = Y.fillna(1)"
   ]
  },
  {
   "cell_type": "code",
   "execution_count": 8,
   "metadata": {
    "colab": {
     "base_uri": "https://localhost:8080/"
    },
    "id": "PhTOSM64PSca",
    "outputId": "a57e1106-d5c6-45e2-8989-2a07d8246145"
   },
   "outputs": [
    {
     "data": {
      "text/plain": [
       "0"
      ]
     },
     "execution_count": 8,
     "metadata": {},
     "output_type": "execute_result"
    }
   ],
   "source": [
    "Y.isnull().sum()"
   ]
  },
  {
   "cell_type": "code",
   "execution_count": 9,
   "metadata": {
    "id": "znn17oDnOx3A"
   },
   "outputs": [],
   "source": [
    "# Split the dataset into training and testing sets\n",
    "X_train, X_test, y_train, y_test = train_test_split(X, Y, test_size=0.2, random_state=31)"
   ]
  },
  {
   "cell_type": "code",
   "execution_count": 10,
   "metadata": {
    "id": "jn6kW0BRO-Fi"
   },
   "outputs": [],
   "source": [
    "# Convert the text data into numerical features using CountVectorizer\n",
    "vectorizer = CountVectorizer()\n",
    "X_train_vectorized = vectorizer.fit_transform(X_train['text'])\n",
    "X_test_vectorized = vectorizer.transform(X_test['text'])\n"
   ]
  },
  {
   "cell_type": "code",
   "execution_count": 11,
   "metadata": {
    "id": "gG-ZP0HZPAi0"
   },
   "outputs": [],
   "source": [
    "# Create a Multinomial Naive Bayes classifier\n",
    "clf = MultinomialNB()"
   ]
  },
  {
   "cell_type": "code",
   "execution_count": 12,
   "metadata": {
    "colab": {
     "base_uri": "https://localhost:8080/",
     "height": 75
    },
    "id": "0P8ODqmoPFFp",
    "outputId": "c2d449ee-eaeb-48c1-a660-f9d6ef254f12"
   },
   "outputs": [
    {
     "data": {
      "text/html": [
       "<style>#sk-container-id-1 {color: black;background-color: white;}#sk-container-id-1 pre{padding: 0;}#sk-container-id-1 div.sk-toggleable {background-color: white;}#sk-container-id-1 label.sk-toggleable__label {cursor: pointer;display: block;width: 100%;margin-bottom: 0;padding: 0.3em;box-sizing: border-box;text-align: center;}#sk-container-id-1 label.sk-toggleable__label-arrow:before {content: \"▸\";float: left;margin-right: 0.25em;color: #696969;}#sk-container-id-1 label.sk-toggleable__label-arrow:hover:before {color: black;}#sk-container-id-1 div.sk-estimator:hover label.sk-toggleable__label-arrow:before {color: black;}#sk-container-id-1 div.sk-toggleable__content {max-height: 0;max-width: 0;overflow: hidden;text-align: left;background-color: #f0f8ff;}#sk-container-id-1 div.sk-toggleable__content pre {margin: 0.2em;color: black;border-radius: 0.25em;background-color: #f0f8ff;}#sk-container-id-1 input.sk-toggleable__control:checked~div.sk-toggleable__content {max-height: 200px;max-width: 100%;overflow: auto;}#sk-container-id-1 input.sk-toggleable__control:checked~label.sk-toggleable__label-arrow:before {content: \"▾\";}#sk-container-id-1 div.sk-estimator input.sk-toggleable__control:checked~label.sk-toggleable__label {background-color: #d4ebff;}#sk-container-id-1 div.sk-label input.sk-toggleable__control:checked~label.sk-toggleable__label {background-color: #d4ebff;}#sk-container-id-1 input.sk-hidden--visually {border: 0;clip: rect(1px 1px 1px 1px);clip: rect(1px, 1px, 1px, 1px);height: 1px;margin: -1px;overflow: hidden;padding: 0;position: absolute;width: 1px;}#sk-container-id-1 div.sk-estimator {font-family: monospace;background-color: #f0f8ff;border: 1px dotted black;border-radius: 0.25em;box-sizing: border-box;margin-bottom: 0.5em;}#sk-container-id-1 div.sk-estimator:hover {background-color: #d4ebff;}#sk-container-id-1 div.sk-parallel-item::after {content: \"\";width: 100%;border-bottom: 1px solid gray;flex-grow: 1;}#sk-container-id-1 div.sk-label:hover label.sk-toggleable__label {background-color: #d4ebff;}#sk-container-id-1 div.sk-serial::before {content: \"\";position: absolute;border-left: 1px solid gray;box-sizing: border-box;top: 0;bottom: 0;left: 50%;z-index: 0;}#sk-container-id-1 div.sk-serial {display: flex;flex-direction: column;align-items: center;background-color: white;padding-right: 0.2em;padding-left: 0.2em;position: relative;}#sk-container-id-1 div.sk-item {position: relative;z-index: 1;}#sk-container-id-1 div.sk-parallel {display: flex;align-items: stretch;justify-content: center;background-color: white;position: relative;}#sk-container-id-1 div.sk-item::before, #sk-container-id-1 div.sk-parallel-item::before {content: \"\";position: absolute;border-left: 1px solid gray;box-sizing: border-box;top: 0;bottom: 0;left: 50%;z-index: -1;}#sk-container-id-1 div.sk-parallel-item {display: flex;flex-direction: column;z-index: 1;position: relative;background-color: white;}#sk-container-id-1 div.sk-parallel-item:first-child::after {align-self: flex-end;width: 50%;}#sk-container-id-1 div.sk-parallel-item:last-child::after {align-self: flex-start;width: 50%;}#sk-container-id-1 div.sk-parallel-item:only-child::after {width: 0;}#sk-container-id-1 div.sk-dashed-wrapped {border: 1px dashed gray;margin: 0 0.4em 0.5em 0.4em;box-sizing: border-box;padding-bottom: 0.4em;background-color: white;}#sk-container-id-1 div.sk-label label {font-family: monospace;font-weight: bold;display: inline-block;line-height: 1.2em;}#sk-container-id-1 div.sk-label-container {text-align: center;}#sk-container-id-1 div.sk-container {/* jupyter's `normalize.less` sets `[hidden] { display: none; }` but bootstrap.min.css set `[hidden] { display: none !important; }` so we also need the `!important` here to be able to override the default hidden behavior on the sphinx rendered scikit-learn.org. See: https://github.com/scikit-learn/scikit-learn/issues/21755 */display: inline-block !important;position: relative;}#sk-container-id-1 div.sk-text-repr-fallback {display: none;}</style><div id=\"sk-container-id-1\" class=\"sk-top-container\"><div class=\"sk-text-repr-fallback\"><pre>MultinomialNB()</pre><b>In a Jupyter environment, please rerun this cell to show the HTML representation or trust the notebook. <br />On GitHub, the HTML representation is unable to render, please try loading this page with nbviewer.org.</b></div><div class=\"sk-container\" hidden><div class=\"sk-item\"><div class=\"sk-estimator sk-toggleable\"><input class=\"sk-toggleable__control sk-hidden--visually\" id=\"sk-estimator-id-1\" type=\"checkbox\" checked><label for=\"sk-estimator-id-1\" class=\"sk-toggleable__label sk-toggleable__label-arrow\">MultinomialNB</label><div class=\"sk-toggleable__content\"><pre>MultinomialNB()</pre></div></div></div></div></div>"
      ],
      "text/plain": [
       "MultinomialNB()"
      ]
     },
     "execution_count": 12,
     "metadata": {},
     "output_type": "execute_result"
    }
   ],
   "source": [
    "# Train the classifier\n",
    "clf.fit(X_train_vectorized, y_train)"
   ]
  },
  {
   "cell_type": "code",
   "execution_count": 13,
   "metadata": {
    "colab": {
     "base_uri": "https://localhost:8080/"
    },
    "id": "_8mAtuxHQ-D8",
    "outputId": "dd162e60-399a-4777-e7c6-bc5b75b54385"
   },
   "outputs": [
    {
     "name": "stdout",
     "output_type": "stream",
     "text": [
      "Accuracy: 0.7747252747252747\n"
     ]
    }
   ],
   "source": [
    "# Make predictions on the test set\n",
    "predictions = clf.predict(X_test_vectorized)\n",
    "\n",
    "# Calculate accuracy\n",
    "accuracy = accuracy_score(y_test, predictions)\n",
    "print(\"Accuracy:\", accuracy)"
   ]
  },
  {
   "cell_type": "markdown",
   "metadata": {
    "id": "HZWxGD_Gjzvb"
   },
   "source": [
    "# Test Data"
   ]
  },
  {
   "cell_type": "code",
   "execution_count": 14,
   "metadata": {
    "id": "tu2G8s_Zdj7v"
   },
   "outputs": [],
   "source": [
    "stress2 = pd.read_csv(\"C:/Users/Atharv/Downloads/ERFOLG PYTHON LAB/EX3/stress_test.csv\")"
   ]
  },
  {
   "cell_type": "code",
   "execution_count": 15,
   "metadata": {
    "colab": {
     "base_uri": "https://localhost:8080/"
    },
    "id": "I0OrgOsbeL8F",
    "outputId": "7ce5e3f9-2d09-4c35-aa64-2d04c4631774"
   },
   "outputs": [
    {
     "data": {
      "text/plain": [
       "(453, 116)"
      ]
     },
     "execution_count": 15,
     "metadata": {},
     "output_type": "execute_result"
    }
   ],
   "source": [
    "stress2.shape"
   ]
  },
  {
   "cell_type": "code",
   "execution_count": 16,
   "metadata": {
    "colab": {
     "base_uri": "https://localhost:8080/"
    },
    "id": "u8GOvPIMeQap",
    "outputId": "bfc296a1-0ca0-4daa-b1e1-f97cf14bc7e6"
   },
   "outputs": [
    {
     "data": {
      "text/plain": [
       "Unnamed: 0                  0\n",
       "subreddit                   0\n",
       "post_id                     0\n",
       "sentence_range              0\n",
       "text                        0\n",
       "                           ..\n",
       "lex_dal_avg_pleasantness    0\n",
       "social_upvote_ratio         0\n",
       "social_num_comments         0\n",
       "syntax_fk_grade             0\n",
       "sentiment                   0\n",
       "Length: 116, dtype: int64"
      ]
     },
     "execution_count": 16,
     "metadata": {},
     "output_type": "execute_result"
    }
   ],
   "source": [
    "stress2.isnull().sum()"
   ]
  },
  {
   "cell_type": "code",
   "execution_count": 17,
   "metadata": {
    "id": "oNv2St3OebIX"
   },
   "outputs": [],
   "source": [
    "# Convert the text data into numerical features using CountVectorizer\n",
    "X_test2_vectorized = vectorizer.transform(stress2['text'])"
   ]
  },
  {
   "cell_type": "code",
   "execution_count": 18,
   "metadata": {
    "id": "fAZA6oTde3d9"
   },
   "outputs": [],
   "source": [
    "# Make predictions on the test set\n",
    "predictions = clf.predict(X_test2_vectorized)"
   ]
  },
  {
   "cell_type": "code",
   "execution_count": 19,
   "metadata": {
    "colab": {
     "base_uri": "https://localhost:8080/"
    },
    "id": "lavJc_Ghe8nq",
    "outputId": "321517b3-8ca2-4f36-a9ab-a1a7dc4efbef"
   },
   "outputs": [
    {
     "data": {
      "text/plain": [
       "array([1., 1., 0., 0., 1., 1., 1., 1., 1., 1., 1., 1., 0., 1., 1., 1., 1.,\n",
       "       1., 0., 1., 1., 0., 1., 0., 0., 1., 1., 1., 1., 1., 1., 1., 1., 1.,\n",
       "       1., 1., 1., 0., 0., 0., 1., 0., 0., 0., 0., 1., 0., 1., 1., 1., 0.,\n",
       "       1., 1., 1., 0., 1., 0., 1., 1., 1., 1., 0., 1., 1., 0., 1., 0., 1.,\n",
       "       1., 1., 1., 0., 1., 1., 1., 1., 1., 0., 1., 1., 1., 1., 0., 1., 1.,\n",
       "       0., 1., 0., 1., 1., 1., 0., 1., 1., 1., 1., 1., 1., 1., 1., 1., 0.,\n",
       "       1., 0., 0., 1., 1., 0., 1., 1., 0., 0., 1., 1., 1., 0., 1., 0., 1.,\n",
       "       0., 1., 1., 1., 0., 1., 1., 1., 1., 1., 0., 1., 1., 1., 1., 0., 0.,\n",
       "       1., 1., 1., 1., 0., 0., 1., 0., 1., 0., 1., 0., 1., 1., 0., 1., 0.,\n",
       "       1., 0., 1., 1., 1., 0., 1., 1., 1., 0., 1., 1., 0., 0., 0., 1., 0.,\n",
       "       1., 1., 1., 1., 1., 0., 1., 0., 1., 1., 1., 1., 0., 1., 0., 0., 1.,\n",
       "       1., 1., 1., 1., 1., 0., 0., 1., 1., 1., 0., 0., 1., 1., 1., 0., 0.,\n",
       "       1., 1., 0., 0., 0., 1., 0., 0., 1., 1., 0., 1., 1., 0., 0., 0., 0.,\n",
       "       1., 1., 1., 1., 1., 1., 1., 1., 0., 1., 1., 0., 1., 1., 1., 0., 0.,\n",
       "       1., 1., 1., 1., 1., 1., 0., 0., 1., 0., 1., 1., 1., 1., 0., 1., 1.,\n",
       "       1., 0., 0., 0., 1., 1., 1., 0., 1., 0., 1., 1., 0., 1., 1., 1., 1.,\n",
       "       1., 1., 1., 1., 1., 1., 1., 1., 0., 0., 1., 1., 1., 1., 1., 1., 1.,\n",
       "       1., 1., 0., 0., 1., 1., 1., 0., 1., 1., 1., 0., 1., 1., 0., 1., 0.,\n",
       "       0., 1., 0., 1., 1., 0., 1., 1., 0., 1., 0., 1., 1., 1., 0., 1., 0.,\n",
       "       0., 1., 1., 1., 1., 0., 0., 0., 1., 1., 1., 1., 0., 1., 1., 0., 1.,\n",
       "       1., 1., 0., 1., 1., 0., 1., 0., 1., 0., 0., 1., 1., 0., 1., 1., 0.,\n",
       "       0., 0., 0., 1., 1., 1., 1., 0., 1., 0., 1., 0., 0., 0., 0., 1., 1.,\n",
       "       0., 1., 1., 0., 0., 1., 1., 1., 1., 1., 1., 0., 1., 0., 1., 0., 1.,\n",
       "       1., 0., 1., 1., 1., 1., 1., 1., 1., 1., 0., 1., 0., 1., 0., 0., 1.,\n",
       "       1., 1., 1., 1., 1., 1., 1., 1., 0., 1., 1., 1., 0., 1., 0., 1., 0.,\n",
       "       0., 1., 1., 1., 1., 0., 0., 1., 1., 1., 1., 0., 0., 1., 1., 1., 1.,\n",
       "       0., 1., 1., 1., 0., 1., 0., 1., 0., 0., 1.])"
      ]
     },
     "execution_count": 19,
     "metadata": {},
     "output_type": "execute_result"
    }
   ],
   "source": [
    "predictions"
   ]
  },
  {
   "cell_type": "code",
   "execution_count": 20,
   "metadata": {
    "colab": {
     "base_uri": "https://localhost:8080/"
    },
    "id": "waxsJyBvh-Af",
    "outputId": "73acfa6a-b295-4ecb-c987-e255ecf16baa"
   },
   "outputs": [
    {
     "data": {
      "text/plain": [
       "(453,)"
      ]
     },
     "execution_count": 20,
     "metadata": {},
     "output_type": "execute_result"
    }
   ],
   "source": [
    "predictions.shape"
   ]
  },
  {
   "cell_type": "code",
   "execution_count": 21,
   "metadata": {
    "colab": {
     "base_uri": "https://localhost:8080/",
     "height": 612
    },
    "id": "TMM7tdQke-A-",
    "outputId": "97a21e47-514f-4fbe-9952-cba69d52940c"
   },
   "outputs": [
    {
     "data": {
      "text/html": [
       "<div>\n",
       "<style scoped>\n",
       "    .dataframe tbody tr th:only-of-type {\n",
       "        vertical-align: middle;\n",
       "    }\n",
       "\n",
       "    .dataframe tbody tr th {\n",
       "        vertical-align: top;\n",
       "    }\n",
       "\n",
       "    .dataframe thead th {\n",
       "        text-align: right;\n",
       "    }\n",
       "</style>\n",
       "<table border=\"1\" class=\"dataframe\">\n",
       "  <thead>\n",
       "    <tr style=\"text-align: right;\">\n",
       "      <th></th>\n",
       "      <th>Unnamed: 0</th>\n",
       "      <th>subreddit</th>\n",
       "      <th>post_id</th>\n",
       "      <th>sentence_range</th>\n",
       "      <th>text</th>\n",
       "      <th>id</th>\n",
       "      <th>confidence</th>\n",
       "      <th>social_timestamp</th>\n",
       "      <th>social_karma</th>\n",
       "      <th>syntax_ari</th>\n",
       "      <th>...</th>\n",
       "      <th>lex_dal_min_pleasantness</th>\n",
       "      <th>lex_dal_min_activation</th>\n",
       "      <th>lex_dal_min_imagery</th>\n",
       "      <th>lex_dal_avg_activation</th>\n",
       "      <th>lex_dal_avg_imagery</th>\n",
       "      <th>lex_dal_avg_pleasantness</th>\n",
       "      <th>social_upvote_ratio</th>\n",
       "      <th>social_num_comments</th>\n",
       "      <th>syntax_fk_grade</th>\n",
       "      <th>sentiment</th>\n",
       "    </tr>\n",
       "  </thead>\n",
       "  <tbody>\n",
       "    <tr>\n",
       "      <th>0</th>\n",
       "      <td>422</td>\n",
       "      <td>anxiety</td>\n",
       "      <td>9x2rhn</td>\n",
       "      <td>(0, 5)</td>\n",
       "      <td>I'm in my third year at uni and starting my di...</td>\n",
       "      <td>12245</td>\n",
       "      <td>1.000000</td>\n",
       "      <td>1542220560</td>\n",
       "      <td>1</td>\n",
       "      <td>5.973354</td>\n",
       "      <td>...</td>\n",
       "      <td>1.0000</td>\n",
       "      <td>1.1429</td>\n",
       "      <td>1</td>\n",
       "      <td>1.76041</td>\n",
       "      <td>1.44928</td>\n",
       "      <td>1.90698</td>\n",
       "      <td>1.00</td>\n",
       "      <td>0</td>\n",
       "      <td>6.302373</td>\n",
       "      <td>0.112500</td>\n",
       "    </tr>\n",
       "    <tr>\n",
       "      <th>1</th>\n",
       "      <td>1773</td>\n",
       "      <td>relationships</td>\n",
       "      <td>7s1xus</td>\n",
       "      <td>[5, 10]</td>\n",
       "      <td>As mentioned above, my girlfriends gets pissed...</td>\n",
       "      <td>269</td>\n",
       "      <td>0.571429</td>\n",
       "      <td>1516581509</td>\n",
       "      <td>4</td>\n",
       "      <td>5.924699</td>\n",
       "      <td>...</td>\n",
       "      <td>1.0000</td>\n",
       "      <td>1.1250</td>\n",
       "      <td>1</td>\n",
       "      <td>1.74411</td>\n",
       "      <td>1.52708</td>\n",
       "      <td>1.84119</td>\n",
       "      <td>0.75</td>\n",
       "      <td>0</td>\n",
       "      <td>5.770201</td>\n",
       "      <td>-0.192500</td>\n",
       "    </tr>\n",
       "    <tr>\n",
       "      <th>2</th>\n",
       "      <td>1583</td>\n",
       "      <td>ptsd</td>\n",
       "      <td>7nadxi</td>\n",
       "      <td>(0, 5)</td>\n",
       "      <td>After unsuccessfully looking for a girlfriend ...</td>\n",
       "      <td>22898</td>\n",
       "      <td>0.800000</td>\n",
       "      <td>1514747988</td>\n",
       "      <td>8</td>\n",
       "      <td>9.745378</td>\n",
       "      <td>...</td>\n",
       "      <td>1.0000</td>\n",
       "      <td>1.1250</td>\n",
       "      <td>1</td>\n",
       "      <td>1.73899</td>\n",
       "      <td>1.43333</td>\n",
       "      <td>1.97044</td>\n",
       "      <td>0.80</td>\n",
       "      <td>3</td>\n",
       "      <td>9.061748</td>\n",
       "      <td>0.256944</td>\n",
       "    </tr>\n",
       "    <tr>\n",
       "      <th>3</th>\n",
       "      <td>1655</td>\n",
       "      <td>ptsd</td>\n",
       "      <td>6aztof</td>\n",
       "      <td>[55, 60]</td>\n",
       "      <td>I wanted this addressed and my advocate said t...</td>\n",
       "      <td>9</td>\n",
       "      <td>0.800000</td>\n",
       "      <td>1494705487</td>\n",
       "      <td>16</td>\n",
       "      <td>8.099895</td>\n",
       "      <td>...</td>\n",
       "      <td>1.1429</td>\n",
       "      <td>1.1250</td>\n",
       "      <td>1</td>\n",
       "      <td>1.74452</td>\n",
       "      <td>1.57143</td>\n",
       "      <td>1.83158</td>\n",
       "      <td>0.84</td>\n",
       "      <td>5</td>\n",
       "      <td>8.464211</td>\n",
       "      <td>0.168056</td>\n",
       "    </tr>\n",
       "    <tr>\n",
       "      <th>4</th>\n",
       "      <td>2152</td>\n",
       "      <td>ptsd</td>\n",
       "      <td>9u1ycz</td>\n",
       "      <td>(30, 35)</td>\n",
       "      <td>I don't have any point, I'm just overwhelmed a...</td>\n",
       "      <td>19130</td>\n",
       "      <td>1.000000</td>\n",
       "      <td>1541320473</td>\n",
       "      <td>44</td>\n",
       "      <td>1.160051</td>\n",
       "      <td>...</td>\n",
       "      <td>1.2000</td>\n",
       "      <td>1.1818</td>\n",
       "      <td>1</td>\n",
       "      <td>1.67679</td>\n",
       "      <td>1.43200</td>\n",
       "      <td>1.86081</td>\n",
       "      <td>0.96</td>\n",
       "      <td>16</td>\n",
       "      <td>3.158077</td>\n",
       "      <td>-0.310000</td>\n",
       "    </tr>\n",
       "  </tbody>\n",
       "</table>\n",
       "<p>5 rows × 116 columns</p>\n",
       "</div>"
      ],
      "text/plain": [
       "   Unnamed: 0      subreddit post_id sentence_range   \n",
       "0         422        anxiety  9x2rhn         (0, 5)  \\\n",
       "1        1773  relationships  7s1xus        [5, 10]   \n",
       "2        1583           ptsd  7nadxi         (0, 5)   \n",
       "3        1655           ptsd  6aztof       [55, 60]   \n",
       "4        2152           ptsd  9u1ycz       (30, 35)   \n",
       "\n",
       "                                                text     id  confidence   \n",
       "0  I'm in my third year at uni and starting my di...  12245    1.000000  \\\n",
       "1  As mentioned above, my girlfriends gets pissed...    269    0.571429   \n",
       "2  After unsuccessfully looking for a girlfriend ...  22898    0.800000   \n",
       "3  I wanted this addressed and my advocate said t...      9    0.800000   \n",
       "4  I don't have any point, I'm just overwhelmed a...  19130    1.000000   \n",
       "\n",
       "   social_timestamp  social_karma  syntax_ari  ...  lex_dal_min_pleasantness   \n",
       "0        1542220560             1    5.973354  ...                    1.0000  \\\n",
       "1        1516581509             4    5.924699  ...                    1.0000   \n",
       "2        1514747988             8    9.745378  ...                    1.0000   \n",
       "3        1494705487            16    8.099895  ...                    1.1429   \n",
       "4        1541320473            44    1.160051  ...                    1.2000   \n",
       "\n",
       "   lex_dal_min_activation  lex_dal_min_imagery  lex_dal_avg_activation   \n",
       "0                  1.1429                    1                 1.76041  \\\n",
       "1                  1.1250                    1                 1.74411   \n",
       "2                  1.1250                    1                 1.73899   \n",
       "3                  1.1250                    1                 1.74452   \n",
       "4                  1.1818                    1                 1.67679   \n",
       "\n",
       "   lex_dal_avg_imagery  lex_dal_avg_pleasantness  social_upvote_ratio   \n",
       "0              1.44928                   1.90698                 1.00  \\\n",
       "1              1.52708                   1.84119                 0.75   \n",
       "2              1.43333                   1.97044                 0.80   \n",
       "3              1.57143                   1.83158                 0.84   \n",
       "4              1.43200                   1.86081                 0.96   \n",
       "\n",
       "   social_num_comments  syntax_fk_grade  sentiment  \n",
       "0                    0         6.302373   0.112500  \n",
       "1                    0         5.770201  -0.192500  \n",
       "2                    3         9.061748   0.256944  \n",
       "3                    5         8.464211   0.168056  \n",
       "4                   16         3.158077  -0.310000  \n",
       "\n",
       "[5 rows x 116 columns]"
      ]
     },
     "execution_count": 21,
     "metadata": {},
     "output_type": "execute_result"
    }
   ],
   "source": [
    "stress2.head()"
   ]
  },
  {
   "cell_type": "code",
   "execution_count": 22,
   "metadata": {
    "id": "ntcJHS3dgt-C"
   },
   "outputs": [],
   "source": [
    "mb = pd.Series(predictions) "
   ]
  },
  {
   "cell_type": "code",
   "execution_count": 23,
   "metadata": {
    "id": "aa1sWA-4guKP"
   },
   "outputs": [],
   "source": [
    "stress2['stress'] = mb"
   ]
  },
  {
   "cell_type": "code",
   "execution_count": 24,
   "metadata": {
    "id": "JLEzhjhEr9ci"
   },
   "outputs": [],
   "source": [
    "stress2['stress'] = stress2['stress'].astype('int64')"
   ]
  },
  {
   "cell_type": "code",
   "execution_count": 25,
   "metadata": {
    "id": "F8brbx-iguQU"
   },
   "outputs": [],
   "source": [
    "submission = pd.DataFrame({\"ID\" : stress2['id'], \"Stress\" : stress2['stress']})\n",
    "submission.to_csv(\"ERFOLG-group1-exercise3.csv\", index=False)\n"
   ]
  },
  {
   "cell_type": "code",
   "execution_count": null,
   "metadata": {
    "id": "VBZO_xpCsLGC"
   },
   "outputs": [],
   "source": []
  }
 ],
 "metadata": {
  "accelerator": "GPU",
  "colab": {
   "gpuType": "T4",
   "provenance": []
  },
  "kernelspec": {
   "display_name": "Python 3 (ipykernel)",
   "language": "python",
   "name": "python3"
  },
  "language_info": {
   "codemirror_mode": {
    "name": "ipython",
    "version": 3
   },
   "file_extension": ".py",
   "mimetype": "text/x-python",
   "name": "python",
   "nbconvert_exporter": "python",
   "pygments_lexer": "ipython3",
   "version": "3.11.3"
  }
 },
 "nbformat": 4,
 "nbformat_minor": 1
}
